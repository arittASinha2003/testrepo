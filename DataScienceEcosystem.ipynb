{
  "cells": [
    {
      "cell_type": "markdown",
      "metadata": {
        "id": "g5uS_mbiixKv"
      },
      "source": [
        "# Data Science Tools and Ecosystem"
      ]
    },
    {
      "cell_type": "markdown",
      "metadata": {
        "id": "ujZVlQRUixK1"
      },
      "source": [
        "## Introduction\n",
        "\n",
        "Welcome to the \"Data Science Tools and Ecosystem\" notebook! In this document, we will explore various tools and components that form the foundation of the data science field. Let's dive into the rich and dynamic landscape of data science together."
      ]
    },
    {
      "cell_type": "markdown",
      "metadata": {
        "id": "IKdTKLwTixK2"
      },
      "source": [
        "## Data Science Languages\n",
        "\n",
        "Some of the popular languages that Data Scientists use are:\n",
        "\n",
        "1. Python\n",
        "2. R\n",
        "3. Julia\n",
        "4. SQL\n",
        "\n",
        "These languages provide a powerful and flexible foundation for conducting data analysis, machine learning, and statistical modeling in the field of data science."
      ]
    },
    {
      "cell_type": "markdown",
      "metadata": {
        "id": "2tva11G5ixK3"
      },
      "source": [
        "## Data Science Libraries\n",
        "\n",
        "Some of the commonly used libraries by Data Scientists include:\n",
        "\n",
        "1. NumPy\n",
        "2. Pandas\n",
        "3. Scikit-learn\n",
        "4. Matplotlib\n",
        "\n",
        "These libraries play a crucial role in data manipulation, analysis, and machine learning tasks, providing a robust toolkit for data scientists."
      ]
    },
    {
      "cell_type": "markdown",
      "metadata": {
        "id": "kUNQ8lEyixK3"
      },
      "source": [
        "## Data Science Tools\n",
        "\n",
        "| Data Science Tools        |\n",
        "|---------------------------|\n",
        "| Jupyter Notebooks         |\n",
        "| RStudio                   |\n",
        "| VS Code with Python       |\n",
        "| PyCharm                   |"
      ]
    },
    {
      "cell_type": "markdown",
      "metadata": {
        "id": "bM6qMLNhixK4"
      },
      "source": [
        "### Arithmetic Expression Examples in Python\n",
        "\n",
        "Below are a few examples of evaluating arithmetic expressions in Python."
      ]
    },
    {
      "cell_type": "code",
      "execution_count": 1,
      "metadata": {
        "colab": {
          "base_uri": "https://localhost:8080/"
        },
        "id": "L5lv6nm7ixK4",
        "outputId": "b112655a-d99d-4e2d-90cd-de7a4343e6f4"
      },
      "outputs": [
        {
          "output_type": "execute_result",
          "data": {
            "text/plain": [
              "17"
            ]
          },
          "metadata": {},
          "execution_count": 1
        }
      ],
      "source": [
        "# This is a simple arithmetic expression to multiply then add integers.\n",
        "result = (3 * 4) + 5\n",
        "result"
      ]
    },
    {
      "cell_type": "code",
      "execution_count": 2,
      "metadata": {
        "colab": {
          "base_uri": "https://localhost:8080/"
        },
        "id": "gqBTbHYWixK7",
        "outputId": "86a13165-b430-4710-c52e-9e0b95daad60"
      },
      "outputs": [
        {
          "output_type": "execute_result",
          "data": {
            "text/plain": [
              "3.3333333333333335"
            ]
          },
          "metadata": {},
          "execution_count": 2
        }
      ],
      "source": [
        "# This will convert 200 minutes to hours by dividing by 60.\n",
        "minutes = 200\n",
        "hours = minutes / 60\n",
        "hours"
      ]
    },
    {
      "cell_type": "markdown",
      "metadata": {
        "id": "k_SiJIbdixK8"
      },
      "source": [
        "## Objectives:\n",
        "\n",
        "- **List popular languages for Data Science.**\n",
        "- **Understand commonly used libraries in data science.**\n",
        "- **Learn about different Data Science tools.**\n",
        "- **Provide examples of evaluating arithmetic expressions in Python.**\n",
        "- **Demonstrate conversion of minutes to hours using Python.**"
      ]
    },
    {
      "cell_type": "markdown",
      "metadata": {
        "id": "CnkBD0xlixK8"
      },
      "source": [
        "## Author\n",
        "\n",
        "Aritt Sinha"
      ]
    }
  ],
  "metadata": {
    "language_info": {
      "name": "python"
    },
    "colab": {
      "provenance": []
    },
    "kernelspec": {
      "name": "python3",
      "display_name": "Python 3"
    }
  },
  "nbformat": 4,
  "nbformat_minor": 0
}