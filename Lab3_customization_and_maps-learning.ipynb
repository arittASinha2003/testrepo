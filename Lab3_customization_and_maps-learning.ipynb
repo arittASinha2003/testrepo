{
 "cells": [
  {
   "cell_type": "markdown",
   "metadata": {},
   "source": [
    "<center> <img src=\"https://cf-courses-data.s3.us.cloud-object-storage.appdomain.cloud/assets/logos/SN_web_lightmode.png\" width=\"300\"> </center>\n",
    "\n",
    "<h1 align=center><font size = 5>Customization and Maps</font></h1>\n",
    "\n",
    "<hr>\n"
   ]
  },
  {
   "cell_type": "markdown",
   "metadata": {},
   "source": [
    "## Table of Contents\n",
    "\n",
    "\n",
    "<div class=\"alert alert-block alert-info\" style=\"margin-top: 20px\">\n",
    "<li><a href=\"#ref0\">1. Customizing Plots</a></li>\n",
    "<li><a href=\"#ref1\">2. Faceting and Themes</a></li>\n",
    "<li><a href=\"#ref2\">3. Maps with leaflet</a></li>\n",
    "<!-- <li style=\"margin-left: 40px;\"><a href=\"#ref4\">?</a></li>\n",
    "<li style=\"margin-left: 40px;\"><a href=\"#ref5\">?</a></li> -->\n",
    "<br>\n",
    "<p></p>\n",
    "Estimated Time Needed: <strong>45 min</strong>\n",
    "</div>\n",
    "\n",
    "<hr>\n"
   ]
  },
  {
   "cell_type": "markdown",
   "metadata": {},
   "source": [
    "<h2 align=center>Introduction</h2>\n",
    "\n",
    "In this notebook you will learn how to customize your plots, add themes, and change the color palette. \n",
    "Additionally, you will learn more about creating maps with the \"leaflet\" package.\n",
    "\n",
    "<a id=\"ref0\"></a>\n",
    "## <center>1. Customizing Plots</center>\n",
    "\n",
    "In this section of customizing plots, you will learn how to customize titles and labels, text labels, and add line and text annotations to plots.\n",
    "\n",
    "Before jumping into knowledge, let's install the necessary packages.\n"
   ]
  },
  {
   "cell_type": "code",
   "execution_count": 1,
   "metadata": {},
   "outputs": [
    {
     "ename": "NameError",
     "evalue": "name 'install' is not defined",
     "output_type": "error",
     "traceback": [
      "\u001b[0;31m---------------------------------------------------------------------------\u001b[0m",
      "\u001b[0;31mNameError\u001b[0m                                 Traceback (most recent call last)",
      "\u001b[0;32m/tmp/ipykernel_354/1861538319.py\u001b[0m in \u001b[0;36m<module>\u001b[0;34m\u001b[0m\n\u001b[0;32m----> 1\u001b[0;31m \u001b[0minstall\u001b[0m\u001b[0;34m.\u001b[0m\u001b[0mpackages\u001b[0m\u001b[0;34m(\u001b[0m\u001b[0mc\u001b[0m\u001b[0;34m(\u001b[0m\u001b[0;34m\"rlang\"\u001b[0m\u001b[0;34m,\u001b[0m\u001b[0;34m\"fastmap\"\u001b[0m\u001b[0;34m)\u001b[0m\u001b[0;34m)\u001b[0m\u001b[0;34m\u001b[0m\u001b[0;34m\u001b[0m\u001b[0m\n\u001b[0m\u001b[1;32m      2\u001b[0m \u001b[0minstall\u001b[0m\u001b[0;34m.\u001b[0m\u001b[0mpackages\u001b[0m\u001b[0;34m(\u001b[0m\u001b[0;34m\"https://cran.r-project.org/src/contrib/htmltools_0.5.6.tar.gz\"\u001b[0m\u001b[0;34m,\u001b[0m\u001b[0mrepos\u001b[0m\u001b[0;34m=\u001b[0m\u001b[0mNULL\u001b[0m\u001b[0;34m)\u001b[0m\u001b[0;34m\u001b[0m\u001b[0;34m\u001b[0m\u001b[0m\n\u001b[1;32m      3\u001b[0m \u001b[0minstall\u001b[0m\u001b[0;34m.\u001b[0m\u001b[0mpackages\u001b[0m\u001b[0;34m(\u001b[0m\u001b[0;34m\"https://cran.r-project.org/src/contrib/htmlwidgets_1.6.2.tar.gz\"\u001b[0m\u001b[0;34m,\u001b[0m\u001b[0mrepos\u001b[0m\u001b[0;34m=\u001b[0m\u001b[0mNULL\u001b[0m\u001b[0;34m)\u001b[0m\u001b[0;34m\u001b[0m\u001b[0;34m\u001b[0m\u001b[0m\n",
      "\u001b[0;31mNameError\u001b[0m: name 'install' is not defined"
     ]
    }
   ],
   "source": [
    "install.packages(c(\"rlang\",\"fastmap\"))\n",
    "install.packages(\"https://cran.r-project.org/src/contrib/htmltools_0.5.6.tar.gz\",repos=NULL)\n",
    "install.packages(\"https://cran.r-project.org/src/contrib/htmlwidgets_1.6.2.tar.gz\",repos=NULL)"
   ]
  },
  {
   "cell_type": "markdown",
   "metadata": {},
   "source": [
    "\n",
    "Please note that 'rlang', 'fastmap', htmltools', 'htmlwidgets' are some of dependent packages required to work with \"leaflet\" package.\n",
    "\n",
    "Restart R Kernel and then load 'ggplot2' and 'htmltools' packages.\n"
   ]
  },
  {
   "cell_type": "code",
   "execution_count": null,
   "metadata": {},
   "outputs": [],
   "source": [
    "library(ggplot2)\n",
    "library(htmltools)"
   ]
  },
  {
   "cell_type": "markdown",
   "metadata": {},
   "source": [
    "### Labels\n",
    "\n",
    "It is important to add labels and titles to your plots. Often, default labels are lacking in descriptive information, so it is better to customize the labels yourself so they convey the intended meaning to those who will consume your data visualizations. \n",
    "\n",
    "You can use the `labs()` function to change the x axis label, y axis label, the legend title, the entire plot title, the plot subtitle, and the plot captions. You do not have to add all these labels, but it is a good idea to make sure that at least the x and y axis, and the title are informative. \n",
    "\n",
    "Here is the `labs()` documentation:\n",
    "```r\n",
    "labs(\n",
    "  x = ...,        # x axis label\n",
    "  y = ...,        # y axis label\n",
    "  color = ...,    # legend title\n",
    "  title = ,       # plot title\n",
    "  subtitle = ..., # plot subtitle\n",
    "  caption = ...   # plot caption\n",
    ")\n",
    "```\n",
    "\n",
    "An alternative way to update the x axis, y axis, or title and subtitle labels is to use these functions: \n",
    "\n",
    "```r\n",
    "xlab(label)\n",
    "ylab(label)\n",
    "ggtitle(label, subtitle = ...)\n",
    "```\n",
    "To find more details, please read the full [labs()](https://ggplot2.tidyverse.org/reference/labs.html) documentation.\n",
    "\n",
    "In this example, you are plotting the weight of cars against the mileage from the `mtcars` dataset. To people unfamiliar with this dataset, they may not understand what `wt` or `mpg` means.\n"
   ]
  },
  {
   "cell_type": "code",
   "execution_count": null,
   "metadata": {},
   "outputs": [],
   "source": [
    "ggplot(mtcars, aes(x = wt, y = mpg)) + \n",
    "  geom_point(aes(color = factor(cyl)))"
   ]
  },
  {
   "cell_type": "markdown",
   "metadata": {},
   "source": [
    "Instead, if you customize the labels and titles, this chart becomes much more informative.\n"
   ]
  },
  {
   "cell_type": "code",
   "execution_count": null,
   "metadata": {},
   "outputs": [],
   "source": [
    "ggplot(mtcars, aes(x = wt, y = mpg)) + \n",
    "  geom_point(aes(color = factor(cyl))) +\n",
    "  labs(\n",
    "    x = \"Weight (1000 lbs)\", \n",
    "    y = \"Miles/(US) gallon\", \n",
    "    color = \"Cylinders\",\n",
    "    title = \"Mileage by weight and cylinders\",\n",
    "    subtitle = \"Source: 1974 Motor Trend US magazine\"\n",
    ")"
   ]
  },
  {
   "cell_type": "markdown",
   "metadata": {},
   "source": [
    "### Text labels\n",
    "\n",
    "Another helpful function to use in plots is `geom_text()`, which adds text labels to data points.\n",
    "\n",
    "This example again uses the mileage and weight of cars, except that we now want to display the name of the car that corresponds with each data point on the plot.\n",
    "\n",
    "In mtcars, the row name contains the name of the cars. You can use `geom_text()` with the `rownames()` function to label each point with the name of the car. So, in the `aes()` of `geom_text()`, set the label parameter equal to `rownames(mtcars)`.\n"
   ]
  },
  {
   "cell_type": "code",
   "execution_count": null,
   "metadata": {},
   "outputs": [],
   "source": [
    "ggplot(mtcars, aes(x = wt, y = mpg)) + \n",
    "  geom_point(aes(color = factor(cyl))) +\n",
    "  geom_text(aes(label = rownames(mtcars)))  "
   ]
  },
  {
   "cell_type": "markdown",
   "metadata": {},
   "source": [
    "In the plot above, you can see that the car names appear, as expected, but it looks messy.  \n",
    "\n",
    "To fix the plot:\n",
    "* You can remove the overlapping text by setting the `check_overlap` parameter of `geom_text()` to TRUE. \n",
    "* Also, setting the `hjust` parameter to “inward’ makes sure all the text is positioned within the plot.\n"
   ]
  },
  {
   "cell_type": "code",
   "execution_count": null,
   "metadata": {},
   "outputs": [],
   "source": [
    "ggplot(mtcars, aes(x = wt, y = mpg)) + \n",
    "  geom_point(aes(color = factor(cyl))) +\n",
    "  geom_text(aes(label = rownames(mtcars)),\n",
    "                check_overlap = TRUE, hjust = \"inward\")  "
   ]
  },
  {
   "cell_type": "markdown",
   "metadata": {},
   "source": [
    "Now you can notice that although some points are removed, the overall visualization is better. You can more clearly see now that automatic cars have low mileage and greater weight while manual cars have better mileage and lighter weight. \n"
   ]
  },
  {
   "cell_type": "markdown",
   "metadata": {},
   "source": [
    "### Annotations\n",
    "\n",
    "You can create custom annotations to emphasize important elements of your plot. For example, there may be an outlier on your scatter plot that you want to label or a spike in your line plot that you want to highlight. You can use custom annotations to emphasize these areas. \n",
    "\n",
    "There are several functions you can use to create custom annotations.\n",
    "- `geom_vline()` creates vertical lines\n",
    "- `geom_hline()` creates horizonal lines\n",
    "- `geom_abline()` creates lines that have a slope and intercept\n",
    "- `geom_rect()` creates rectangles\n",
    "\n",
    "You can also use the `annotate()` function, which provides even more customization. You pass in a “geom”, such as “point” or “text”, and then draw these customized elements on the plot. For example:\n",
    "```r\n",
    "annotate(geom = \"line\")   # geom_line()\n",
    "annotate(geom = \"text\")   # geom_text()\n",
    "```\n",
    "\n",
    "Using this is an alternative to functions like `geom_text()` and `geom_label()` can shorten the code length.\n"
   ]
  },
  {
   "cell_type": "markdown",
   "metadata": {},
   "source": [
    "Now, let's use annotations in an example. Consider this histogram of the miles per gallon variable. \n"
   ]
  },
  {
   "cell_type": "code",
   "execution_count": null,
   "metadata": {},
   "outputs": [],
   "source": [
    "ggplot(mtcars, aes(x = mpg)) + \n",
    "  geom_histogram(bins = 10)"
   ]
  },
  {
   "cell_type": "markdown",
   "metadata": {},
   "source": [
    "Let's add a line to show the median and label it. First, find the median \n"
   ]
  },
  {
   "cell_type": "code",
   "execution_count": null,
   "metadata": {},
   "outputs": [],
   "source": [
    "# Find the median value of miles per gallon\n",
    "median(mtcars$mpg)"
   ]
  },
  {
   "cell_type": "markdown",
   "metadata": {},
   "source": [
    "To add a vertical line to show the median, use the `geom_vline()` function.\n",
    "\n",
    "Next, annotate the line using `annotate()`. To add the text, set geom to ”text” and set label to the desired text. Set x and y to position where the text will go. And finally, set hjust (or horizonal justification) to 0, which makes the text completely left justified at the x position. \n"
   ]
  },
  {
   "cell_type": "code",
   "execution_count": null,
   "metadata": {},
   "outputs": [],
   "source": [
    "ggplot(mtcars, aes(x = mpg)) + \n",
    "  geom_histogram(bins = 10) + \n",
    "  labs(x = \"Miles/(US) gallon\", \n",
    "       y = \"Count\", \n",
    "       title = \"Distribution of Miles/Gallon\") +\n",
    "  geom_vline(aes(xintercept = 19.2), \n",
    "             color = \"red\") +\n",
    "  annotate(geom = \"text\", \n",
    "           label = \"Median = 19.2\", \n",
    "           x = 21, \n",
    "           y = 7, \n",
    "           hjust = 0, \n",
    "           color = \"red\")\n"
   ]
  },
  {
   "cell_type": "markdown",
   "metadata": {},
   "source": [
    "A caveat of having custom annotations is that it often time requires a lot of manual trial and error in positioning the shapes and lines. So keep in mind that you may not want to customize everything to the point that you spend too much time trying to add a line or until your plot becomes too overwhelming. Just add enought to enhance your visualization to users.\n"
   ]
  },
  {
   "cell_type": "markdown",
   "metadata": {},
   "source": [
    "<div class=\"alert alert-danger alertdanger\" style=\"margin-top: 20px\">\n",
    "<h1>Question  #1:</h1>\n",
    "\n",
    "<p>Using the mtcars dataset, create a scatter plot of the gross horsepower on the x-axis and the 1/4 mile time on the y-axis. Add labels and a title to the plot. Also, add a line separating horsepowers greater than 200.</p>\n",
    "\n",
    "<p> As a bonus, add a text annotation next to the point that has the slowest 1/4 mile time value. </p>\n",
    "</div>\n"
   ]
  },
  {
   "cell_type": "code",
   "execution_count": null,
   "metadata": {},
   "outputs": [],
   "source": [
    "# Write your code below and press Shift+Enter to execute \n"
   ]
  },
  {
   "cell_type": "markdown",
   "metadata": {},
   "source": [
    "<details>\n",
    "    <summary>Click here for the solution.</summary>\n",
    "\n",
    "```r\n",
    "i_max <- which.max(mtcars$qsec)  # finds index of the max of mtcars$qsec\n",
    "\n",
    "ggplot(mtcars, aes(x = hp, y = qsec)) +\n",
    "  geom_point() + \n",
    "  labs(x = \"Gross horsepower\", y = \"1/4 mile time\") +\n",
    "  geom_vline(aes(xintercept = 200), \n",
    "             color = \"red\") +\n",
    "  annotate(geom = \"text\", \n",
    "           label = \"slowest\", \n",
    "           x = mtcars$hp[i_max] + 5,  # the hp value that corresponds to the max qsec value\n",
    "           y = mtcars$qsec[i_max],    # could use max(mtcars$qsec) \n",
    "           hjust = 0,                 # left aligns text\n",
    "           color = \"red\")    \n",
    "```\n",
    "                 \n",
    "</details>\n"
   ]
  },
  {
   "cell_type": "markdown",
   "metadata": {},
   "source": [
    "<a id=\"ref1\"></a>\n",
    "## <center>2. Faceting and Themes</center>\n",
    "\n",
    "### Faceting\n",
    "Facets divide a plot into subplots based on the values of discrete or categorical variables. In ggplot, you can add the function `facet_wrap()`. You pass in tilde and the variable you are faceting. Using facets are a good way to explore the data further. With facetting, you can make multi-panel plots and control how the scales of one panel relate to the scales of another. For example, facets can help you to look at attributes for each type of car.\n",
    "\n",
    "#### Faceting example\n",
    "Let’s look at an example. Displayed here is the distribution of miles per gallon of all the cars in the mtcars dataset. Now, what if you want to break it up by the number of cylinders each car has?\n",
    "\n",
    "You can add `facet_wrap()` on the cyl variable, which contains the number of cylinders. \n"
   ]
  },
  {
   "cell_type": "code",
   "execution_count": null,
   "metadata": {},
   "outputs": [],
   "source": [
    "ggplot(mtcars, aes(x = mpg)) + \n",
    "    geom_histogram() + \n",
    "    facet_wrap(.~cyl)"
   ]
  },
  {
   "cell_type": "markdown",
   "metadata": {},
   "source": [
    "Now you can see the distributions of miles per gallon for each number of cylinders. From this faceted histogram, you can see that cars with the least number of cylinders have a wider range of miles per gallon and cars with the most cylinders have the least miles per gallon.\n",
    "\n",
    "Using `facet_wrap()` makes creating these plots simple. If you used base R plotting, you would have to filter the data yourself and create a new plot for each number of cylinders. You can apply faceting to all the other plots you have learned about, like bar plots, box plots, scatter plots, and so on. \n"
   ]
  },
  {
   "cell_type": "markdown",
   "metadata": {},
   "source": [
    "<div class=\"alert alert-danger alertdanger\" style=\"margin-top: 20px\">\n",
    "<h1>Question  #2 (a):</h1>\n",
    "\n",
    "<p>Create a bar chart of number of cylinders and facet by transmission. Add labels and a title.</p>\n",
    "\n",
    "</div>\n"
   ]
  },
  {
   "cell_type": "code",
   "execution_count": null,
   "metadata": {},
   "outputs": [],
   "source": [
    "# Write your code below and press Shift+Enter to execute \n"
   ]
  },
  {
   "cell_type": "markdown",
   "metadata": {},
   "source": [
    "<details>\n",
    "    <summary>Click here for the solution.</summary>\n",
    "\n",
    "```r\n",
    "ggplot(mtcars, aes(x = factor(cyl))) + \n",
    "  geom_bar() + \n",
    "  facet_wrap(.~am) + \n",
    "  labs(x = \"Number of cylinders\", title = \"Cylinders by transmission type (0 is automatic, 1 is manual)\")\n",
    "```\n",
    "                 \n",
    "</details>\n"
   ]
  },
  {
   "cell_type": "markdown",
   "metadata": {},
   "source": [
    "### Themes\n",
    "\n",
    "You have seen how ggplot2 makes faceting simple by just adding one function. In line with this idea of making visualization simpler, you can change the themes of your plots simply by adding a different theme function. ggplot2 comes with eight [built-in themes](https://ggplot2.tidyverse.org/reference/ggtheme.html). \n",
    "\n",
    "- `theme_gray()` is the default option. Even if you do not add a theme function, your plot will have this theme\n",
    "- `theme_bw()` is a variation on `theme_gray()` that uses a white background and thin grey grid lines.\n",
    "- `theme_minimal()` has no background annotations.\n",
    "- `theme_classic()` has x and y axis lines but no grid lines.\n",
    "- `theme_void()` is a completely empty theme.\n",
    "- `theme_linedraw()` has only black lines of various widths on white backgrounds.\n",
    "- `theme_light()` is similar to `theme_linedraw()` but with light grey lines and axes.\n",
    "- `theme_dark()` is similar to `theme_light()`, with similar line sizes, but with a dark background.\n",
    "\n",
    "You can play around with different themes and see which one you like better.\n"
   ]
  },
  {
   "cell_type": "code",
   "execution_count": null,
   "metadata": {},
   "outputs": [],
   "source": [
    "ggplot(mtcars, aes(cyl)) + geom_bar() + theme_dark()"
   ]
  },
  {
   "cell_type": "markdown",
   "metadata": {},
   "source": [
    "### Color Palettes\n",
    "Color palettes are a set of colors that the plot will use. In a previous lesson on pie charts, you learned a bit about changing color palettes. Color palettes change the color of the aesthetic `color` or `fill`. For example, common functions to use are:\n",
    "\n",
    "```r\n",
    "scale_colour_brewer()\n",
    "scale_fill_brewer()\n",
    "```\n",
    "\n",
    "* For categorical or qualitative variables\n",
    "    * Some example palettes are: Accent, Dark2, Paired, Set1\n",
    "    * The colors used in these palettes should be distiguishable from each other to differentiate different categories\n",
    "* For numerical or sequential variables\n",
    "    * Some example palettes are: Blues, BuGn, Greens, Greys\n",
    "    * These palettes often go from light to dark colors\n",
    "\n",
    "You can check the documentation for more [palette types](https://ggplot2.tidyverse.org/reference/scale_brewer.html). \n",
    "\n",
    "For example, say you want to represent each number of cylinder by a different color. To do this, set the fill to be `cyl_factor`, then use `scale_fill_brewer()` since you want to change the colors of the `fill` aesthetic. Additionally, `cyl_factor` is categorical variable, so you should use a palette better suited for that.\n"
   ]
  },
  {
   "cell_type": "code",
   "execution_count": null,
   "metadata": {},
   "outputs": [],
   "source": [
    "mtcars$cyl_factor = factor(mtcars$cyl)\n",
    "\n",
    "ggplot(mtcars, aes(x = cyl_factor, fill = cyl_factor)) + \n",
    "  geom_bar() + \n",
    "  scale_fill_brewer(palette = \"Accent\")"
   ]
  },
  {
   "cell_type": "markdown",
   "metadata": {},
   "source": [
    "<div class=\"alert alert-danger alertdanger\" style=\"margin-top: 20px\">\n",
    "<h1>Question  #2 (b):</h1>\n",
    "\n",
    "<p>Use mtcars to create a bar chart of the number of forward gears. Remember to set fill as gears. Chose a built in theme and a color palette different from the examples.</p>\n",
    "\n",
    "</div>\n"
   ]
  },
  {
   "cell_type": "code",
   "execution_count": null,
   "metadata": {},
   "outputs": [],
   "source": [
    "# Write your code below and press Shift+Enter to execute \n"
   ]
  },
  {
   "cell_type": "markdown",
   "metadata": {},
   "source": [
    "<details>\n",
    "    <summary>Click here for the solution.</summary>\n",
    "\n",
    "```\n",
    "# One example solution\n",
    "    \n",
    "mtcars$gear_factor <- factor(mtcars$gear)\n",
    "\n",
    "ggplot(mtcars, aes(x = gear_factor, fill = gear_factor)) + \n",
    "  geom_bar() +  \n",
    "  theme_minimal() + \n",
    "  scale_fill_brewer(palette = \"Set3\")\n",
    "```\n",
    "                 \n",
    "</details>\n"
   ]
  },
  {
   "cell_type": "markdown",
   "metadata": {},
   "source": [
    "### Customizing themes\n",
    "\n",
    "In addition to built-in themes, you can customize your own. There are many different aspects of the plots that you can customize, like the axis, the legend, and the entire plot. To see all the options, look at the documentation with `? theme`. \n",
    "\n",
    "```\n",
    "theme(\n",
    "  axis.line = ...,\n",
    "  legend.background = ...,\n",
    "  plot.title = ...,\n",
    "  plot.background = ...,\n",
    "  ...\n",
    ")\n",
    "```\n",
    "\n",
    "For each element you customize, you may need to use theme element functions like element_rect(), element_line(), or element_text(). There is also the function element_blank() that can completely remove an element if you do not want it. Again, if you look at the documentation for theme, it will describe which function you need to use for each setting. \n",
    "\n",
    "```\n",
    "element_rect()   # borders and backgrounds\n",
    "element_line()   # lines\n",
    "element_text()   # text\n",
    "element_blank()  # draw nothing\n",
    "```\n"
   ]
  },
  {
   "cell_type": "code",
   "execution_count": null,
   "metadata": {},
   "outputs": [],
   "source": [
    "# To check documentations for theme customization\n",
    "?theme"
   ]
  },
  {
   "cell_type": "markdown",
   "metadata": {},
   "source": [
    "#### Example\n",
    "Let's use the base chart:\n",
    "```r\n",
    "ggplot(mtcars, aes(cyl)) +\n",
    "  geom_bar() +\n",
    "  ggtitle(\"Number of Cylinders\")\n",
    "```\n",
    "and do the following:\n",
    "* Change the background using `plot.background()` and the theme element `element_rect()`. The color refers to the color of the background border line and the fill is the color of the background.\n",
    "* Change the plot title using `element_text()` to make it bold and blue.\n",
    "* Change the color of the x and y axis lines, using `element_line()` and set the color.\n",
    "* Remove the axis tick marks using `element_blank()`\n"
   ]
  },
  {
   "cell_type": "code",
   "execution_count": 2,
   "metadata": {},
   "outputs": [
    {
     "ename": "SyntaxError",
     "evalue": "invalid syntax (1324642774.py, line 1)",
     "output_type": "error",
     "traceback": [
      "\u001b[0;36m  File \u001b[0;32m\"/tmp/ipykernel_354/1324642774.py\"\u001b[0;36m, line \u001b[0;32m1\u001b[0m\n\u001b[0;31m    ggplot(mtcars, aes(cyl)) +\u001b[0m\n\u001b[0m                              ^\u001b[0m\n\u001b[0;31mSyntaxError\u001b[0m\u001b[0;31m:\u001b[0m invalid syntax\n"
     ]
    }
   ],
   "source": [
    "ggplot(mtcars, aes(cyl)) +\n",
    "  geom_bar() +\n",
    "  ggtitle(\"Number of Cylinders\") +\n",
    "  theme(\n",
    "    plot.background = element_rect(color = \"green\", \n",
    "                                   fill = \"gray\"),\n",
    "    plot.title = element_text(face = \"bold\",\n",
    "                              color = \"blue\"),\n",
    "    axis.line = element_line(color = \"red\"),\n",
    "    axis.ticks = element_blank()\n",
    "  )"
   ]
  },
  {
   "cell_type": "markdown",
   "metadata": {},
   "source": [
    "<div class=\"alert alert-danger alertdanger\" style=\"margin-top: 20px\">\n",
    "<h1>Question  #2 (c):</h1>\n",
    "\n",
    "<p>Plot a boxplot with \"mpg\" on the y axis. Change the background to any color, choose one <a href=\"http://sape.inf.usi.ch/quick-reference/ggplot2/colour\">here</a>. Also, remove the x text (\"axis.text.x\"). </p>\n",
    "    \n",
    "\n",
    "</div>\n"
   ]
  },
  {
   "cell_type": "code",
   "execution_count": null,
   "metadata": {},
   "outputs": [],
   "source": [
    "# Write your code below and press Shift+Enter to execute \n"
   ]
  },
  {
   "cell_type": "markdown",
   "metadata": {},
   "source": [
    "<details>\n",
    "    <summary>Click here for the solution.</summary>\n",
    "\n",
    "```r\n",
    "ggplot(mtcars, aes(y = mpg)) +\n",
    "     geom_boxplot() +\n",
    "     labs(y = \"Miles per gallon\", title = \"Boxplot\") +\n",
    "     theme(\n",
    "         plot.background = element_rect(fill = \"skyblue\"),\n",
    "         axis.text.x = element_blank()\n",
    "     ) \n",
    "```\n",
    "                 \n",
    "</details>\n"
   ]
  },
  {
   "cell_type": "markdown",
   "metadata": {},
   "source": [
    "## ggthemes package\n",
    "\n",
    "Customizing your own theme gives you a lot of freedom, but the process may be tedious. A helpful package that includes more themes and color scales is the `ggthemes` package. \n",
    "\n",
    "To use it, you must first install it and load it because it is not included in the ggplot2 package.\n"
   ]
  },
  {
   "cell_type": "code",
   "execution_count": null,
   "metadata": {},
   "outputs": [],
   "source": [
    "install.packages(\"ggthemes\")\n",
    "library(ggthemes)"
   ]
  },
  {
   "cell_type": "markdown",
   "metadata": {},
   "source": [
    "Next, we will go over some examples but there are lots of theme options, so feel free to explore the [documentation](https://jrnold.github.io/ggthemes/reference/index.html).\n",
    "\n",
    "\n",
    "#### Examples\n",
    "This is a scatter plot that uses the default `ggplot()` theme and color palette. You can store the base plot in a variable to make it easy to try different themes. In this example, we name it `p`.\n"
   ]
  },
  {
   "cell_type": "code",
   "execution_count": null,
   "metadata": {},
   "outputs": [],
   "source": [
    "p <- ggplot(mtcars, aes(x = wt, y = mpg)) + \n",
    "  geom_point(aes(color = factor(cyl))) +\n",
    "  labs(\n",
    "    x = \"Weight (1000 lbs)\", \n",
    "    y = \"Miles/(US) gallon\", \n",
    "    color = \"Cylinders\"\n",
    "    )\n",
    "p"
   ]
  },
  {
   "cell_type": "markdown",
   "metadata": {},
   "source": [
    "Using the `ggthemes` package, you can change the plot to follow the “economist” theme and colors by simply adding the `theme_economist()` and `scale_color_economist()` functions to the base plot “p”.\n"
   ]
  },
  {
   "cell_type": "code",
   "execution_count": null,
   "metadata": {},
   "outputs": [],
   "source": [
    "p + theme_economist() + scale_color_economist()"
   ]
  },
  {
   "cell_type": "markdown",
   "metadata": {},
   "source": [
    "Here is another example that uses a clean theme and a color palette that is colorblind safe.\n"
   ]
  },
  {
   "cell_type": "code",
   "execution_count": null,
   "metadata": {},
   "outputs": [],
   "source": [
    "p + theme_clean() + \n",
    "    scale_color_colorblind()"
   ]
  },
  {
   "cell_type": "markdown",
   "metadata": {},
   "source": [
    "<div class=\"alert alert-danger alertdanger\" style=\"margin-top: 20px\">\n",
    "<h1>Question  #2 (d):</h1>\n",
    "\n",
    "<p>Use the same base plot, p. Add a different theme and color scale from \"ggthemes\" using the <a href=\"https://jrnold.github.io/ggthemes/reference/index.html\">documentation</a>. </p>\n",
    "    \n",
    "\n",
    "</div>\n"
   ]
  },
  {
   "cell_type": "code",
   "execution_count": null,
   "metadata": {},
   "outputs": [],
   "source": [
    "# Write your code below and press Shift+Enter to execute \n"
   ]
  },
  {
   "cell_type": "markdown",
   "metadata": {},
   "source": [
    "<details>\n",
    "    <summary>Click here for the solution.</summary>\n",
    "\n",
    "```r\n",
    "# Some example solutions\n",
    "\n",
    "p + theme_gdocs() + scale_color_gdocs()\n",
    "    \n",
    "p + theme_igray() + scale_color_canva()\n",
    "```\n",
    "                 \n",
    "</details>\n"
   ]
  },
  {
   "cell_type": "markdown",
   "metadata": {},
   "source": [
    "<a id=\"ref2\"></a>\n",
    "## <center>3. Maps with Leaflet<center>\n"
   ]
  },
  {
   "cell_type": "markdown",
   "metadata": {},
   "source": [
    "### Map packages in R\n",
    "\n",
    "There are a number of packages available for working with maps in R, such as ggmaps, RgoogleMaps, or the built-in “maps” library. \n",
    " \n",
    "We’re going to focus on the [Leaflet library](http://rstudio.github.io/leaflet/), which allows you to create interactive maps. Leaflet is a powerful library capable of producing complex visuals, like this street map of Times Square. But even though it’s a powerful tool, it’s generally very simple to use.\n",
    "\n",
    "Make sure to install it if you haven’t already done so, and then load it using the “library” function.\n"
   ]
  },
  {
   "cell_type": "markdown",
   "metadata": {},
   "source": [
    "Please note that this lab requires 'leaflet' and its dependent 'leaflet.providers' packages. These packages are pre-installed in this lab environment. However, if you are doing this lab locally in the R-Studio desktop, you need to run 'install.packages' command as given below - \n",
    "\n",
    " \" install.packages('leaflet', dependencies = T) \"\n",
    "\n",
    " \" install.packages('leaflet.providers', dependencies = T) \"\n",
    "\n",
    "\n",
    "Proceed to load 'leaflet' package using the “library” function as shown below.\n"
   ]
  },
  {
   "cell_type": "code",
   "execution_count": null,
   "metadata": {},
   "outputs": [],
   "source": [
    "library(leaflet)"
   ]
  },
  {
   "cell_type": "markdown",
   "metadata": {},
   "source": [
    "### Creating simple maps in r\n",
    "\n",
    "To begin, we use the “leaflet” function, which returns an object that represents an empty world map.\n",
    " \n",
    "Next, we call the “addTiles” function to publish a tile layer on the map. This allows us to zoom in and see the countries and cities in detail.\n",
    " \n",
    "Notice that we’re using the special operator `%>%`. This is the pipe operator from the magrittr package. Pipe passes the item on its left into the first parameter of the function on its right, and then returns the result. So this code will send the output of “leaflet” to the first parameter of “addTiles”, and this result is returned to the “map” variable.\n"
   ]
  },
  {
   "cell_type": "code",
   "execution_count": 3,
   "metadata": {},
   "outputs": [
    {
     "ename": "SyntaxError",
     "evalue": "invalid syntax (1635897774.py, line 1)",
     "output_type": "error",
     "traceback": [
      "\u001b[0;36m  File \u001b[0;32m\"/tmp/ipykernel_354/1635897774.py\"\u001b[0;36m, line \u001b[0;32m1\u001b[0m\n\u001b[0;31m    map <- leaflet() %>% addTiles()\u001b[0m\n\u001b[0m                      ^\u001b[0m\n\u001b[0;31mSyntaxError\u001b[0m\u001b[0;31m:\u001b[0m invalid syntax\n"
     ]
    }
   ],
   "source": [
    "map <- leaflet() %>% addTiles()\n",
    "map"
   ]
  },
  {
   "cell_type": "markdown",
   "metadata": {},
   "source": [
    "Also, you can read `%>%` as \"then\" in the code. So in the above code it's like saying first create `leaflet` object, then add tiles.\n"
   ]
  },
  {
   "cell_type": "markdown",
   "metadata": {},
   "source": [
    "### Adding markers\n",
    "\n",
    "You can also display a specific location with a marker, like we’ve done with Times Square on this map. \n",
    "\n",
    "To do so, use the “addMarkers” function, and specify the longitude and latitude of your location. \n"
   ]
  },
  {
   "cell_type": "code",
   "execution_count": null,
   "metadata": {},
   "outputs": [],
   "source": [
    "map <- leaflet() %>% addTiles() %>%\n",
    "       addMarkers(lng = -73.9851, lat = 40.7589)\n",
    "map"
   ]
  },
  {
   "cell_type": "markdown",
   "metadata": {},
   "source": [
    "### Adding captions\n",
    "\n",
    "To add a caption to a specific location, you can use the “popup” argument. So now it’s clear that this marker denotes the location of Times Square.\n"
   ]
  },
  {
   "cell_type": "code",
   "execution_count": null,
   "metadata": {},
   "outputs": [],
   "source": [
    "map <- leaflet() %>% addTiles() %>% \n",
    "       addMarkers(lng = -73.9851, lat = 40.7589, popup = 'Times Square')\n",
    "map"
   ]
  },
  {
   "cell_type": "markdown",
   "metadata": {},
   "source": [
    "### Changing the tile\n",
    "\n",
    "You can create maps with different styles, like the watercolor style you see here. We use the `addProviderTiles()` function with the argument “Stamen.Watercolor”. There are a variety of different styles to choose from, so there are a lot of opportunities to customize your map. \n"
   ]
  },
  {
   "cell_type": "code",
   "execution_count": null,
   "metadata": {},
   "outputs": [],
   "source": [
    "map <- leaflet() %>% addProviderTiles(\"Stamen.Watercolor\") %>% \n",
    "       addMarkers(lng = 2.2945, lat = 48.8584, popup = \"Eiffel Tower\")\n",
    "map"
   ]
  },
  {
   "cell_type": "markdown",
   "metadata": {},
   "source": [
    "### Creating maps from a data frame\n",
    "\n",
    "Let’s now use a data set in order to add markers to a map. \n",
    "\n",
    "We use the built-in “quakes” dataset, which provides the locations of 1000 earthquakes near Fiji since 1964. For each earthquake, the dataset holds the longitude, latitude, depth, magnitude, and number of stations. \n"
   ]
  },
  {
   "cell_type": "code",
   "execution_count": null,
   "metadata": {},
   "outputs": [],
   "source": [
    "head(quakes)"
   ]
  },
  {
   "cell_type": "markdown",
   "metadata": {},
   "source": [
    "### Adding Multiple Markers\n",
    "\n",
    "Let's add multiple markers onto a map. But this time we’ll make sure to provide the longitude and latitude of all the points that we want to plot. You can see that we have created the markers, but now the map is starting to look a little too cluttered.\n"
   ]
  },
  {
   "cell_type": "code",
   "execution_count": null,
   "metadata": {},
   "outputs": [],
   "source": [
    "map <- leaflet(quakes) %>% addTiles() %>% \n",
    "       addCircleMarkers(lng = quakes$long, lat = quakes$lat)\n",
    "map"
   ]
  },
  {
   "cell_type": "markdown",
   "metadata": {},
   "source": [
    "### Clustering markers\n",
    "\n",
    "We can improve the clarity by grouping the markers into clusters. The “clusterOptions” parameter will group the markers by region, and display the number of markers in each region.\n"
   ]
  },
  {
   "cell_type": "code",
   "execution_count": null,
   "metadata": {},
   "outputs": [],
   "source": [
    "map <- leaflet(quakes) %>% addTiles() %>% \n",
    "       addCircleMarkers(clusterOptions = markerClusterOptions())\n",
    "map"
   ]
  },
  {
   "cell_type": "markdown",
   "metadata": {},
   "source": [
    "### Adding circles\n",
    "\n",
    "Another option is to display circles for each point. These circles can be rescaled with the whole map when you zoom in or out. Notice that we’re using the `addCircles()` function, rather than the “addCircleMarkers” function from earlier.\n"
   ]
  },
  {
   "cell_type": "code",
   "execution_count": null,
   "metadata": {},
   "outputs": [],
   "source": [
    "map <- leaflet(quakes) %>% addTiles() %>% \n",
    "       addCircles(lng = quakes$long, lat = quakes$lat)\n",
    "map"
   ]
  },
  {
   "cell_type": "markdown",
   "metadata": {},
   "source": [
    "### Adding rectangles\n",
    "\n",
    "If you want to highlight an area of interest, you can use the `addRectangles()` function. The arguments are the coordinates of two points, which serve as the rectangle’s delimiters. \n"
   ]
  },
  {
   "cell_type": "code",
   "execution_count": null,
   "metadata": {},
   "outputs": [],
   "source": [
    "map <- leaflet(quakes) %>% addTiles() %>% \n",
    "       addMarkers(lng = 86.92, lat = 27.99, popup = \"Mount Everest\") %>%\n",
    "       addRectangles(86.9, 27.95, 87, 28.05)\n",
    "map"
   ]
  },
  {
   "cell_type": "markdown",
   "metadata": {},
   "source": [
    "### Adding other features\n",
    "\n",
    "We mentioned at the beginning that Leaflet is a powerful library that provides a lot of functionality. We’ve only scratched the surface, but Leaflet allows you to add different colors, legends, lines, and shapes. So once you get used to the interface, you’ll be able to use Leaflet to its full potential.\n",
    "\n",
    "Here is the [leaflet documentation](https://rstudio.github.io/leaflet/morefeatures.html) for more information.\n"
   ]
  },
  {
   "cell_type": "markdown",
   "metadata": {},
   "source": [
    "<div class=\"alert alert-danger alertdanger\" style=\"margin-top: 20px\">\n",
    "<h1>Question  #3:</h1>\n",
    "\n",
    "<p>Using the \"quakes\" dataset, add circles and give them color to visualize magnitude (mag). Also, add a legend for the magnitudes. Try following the first example in the <a href=\"https://rstudio.github.io/leaflet/legends.html\">legend section</a> in the documentation.</p>\n",
    "   \n",
    "Hint: define a palette first like \n",
    "```r \n",
    "    pal <- colorNumeric(\n",
    "      palette = \"Reds\",\n",
    "      domain = quakes$mag) \n",
    "```\n",
    "    \n",
    "</div>\n"
   ]
  },
  {
   "cell_type": "code",
   "execution_count": null,
   "metadata": {},
   "outputs": [],
   "source": [
    "# Write your code below and press Shift+Enter to execute \n"
   ]
  },
  {
   "cell_type": "markdown",
   "metadata": {},
   "source": [
    "<details>\n",
    "    <summary>Click here for the solution.</summary>\n",
    "\n",
    "```r\n",
    "# define numeric color palette\n",
    "pal <- colorNumeric(\n",
    "  palette = \"Reds\",\n",
    "  domain = quakes$mag)\n",
    "  \n",
    "# add circles and legend to map\n",
    "map <- leaflet(quakes) %>% addTiles() %>% \n",
    "  addCircles(lng = quakes$long, \n",
    "             lat = quakes$lat, \n",
    "             color = ~pal(mag)) %>%  # color the circle of each magnitude using the palette defined\n",
    "  addLegend(\"bottomright\",           # add legend to the bottom right\n",
    "            pal = pal,               # use the defined color palette\n",
    "            values = ~mag,           # use the mag variable\n",
    "            title = \"Magnitude\")\n",
    "\n",
    "# show map\n",
    "map\n",
    "```\n",
    "                 \n",
    "</details>\n"
   ]
  },
  {
   "cell_type": "markdown",
   "metadata": {},
   "source": [
    "### About the Author:  \n",
    "Hi! It's [Yiwen Li](https://www.linkedin.com/in/yiwen-li-47a019119/) and [Tiffany Zhu](https://www.linkedin.com/in/tiffany-zhu1/), the authors of this notebook. We hope you found R easy to learn! There's lots more to learn about R but you're well on your way. Feel free to connect with us if you have any questions.\n"
   ]
  },
  {
   "cell_type": "markdown",
   "metadata": {},
   "source": [
    "<hr>\n",
    "Copyright © 2021 IBM Corporation. All rights reserved.\n"
   ]
  }
 ],
 "metadata": {
  "kernelspec": {
   "display_name": "Python",
   "language": "python",
   "name": "conda-env-python-py"
  },
  "language_info": {
   "codemirror_mode": {
    "name": "ipython",
    "version": 3
   },
   "file_extension": ".py",
   "mimetype": "text/x-python",
   "name": "python",
   "nbconvert_exporter": "python",
   "pygments_lexer": "ipython3",
   "version": "3.7.12"
  }
 },
 "nbformat": 4,
 "nbformat_minor": 4
}
